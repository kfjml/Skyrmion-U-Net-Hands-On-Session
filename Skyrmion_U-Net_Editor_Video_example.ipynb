{
 "cells": [
  {
   "cell_type": "code",
   "execution_count": null,
   "id": "e2ed856e-b663-429f-8afb-a075aa3c74ef",
   "metadata": {},
   "outputs": [],
   "source": [
    "try:\n",
    "    import google.colab\n",
    "    in_colab = True\n",
    "    !git clone https://github.com/kfjml/Skyrmion-U-Net-Hands-On-Session\n",
    "    !pip install pip==23.3.1 tensorflow[and-cuda]==2.16.1 albumentations==1.4.3 matplotlib==3.8.4 pandas==2.2.1 chardet==5.2.0 ipympl==0.9.3 ipywidgets==7.7.1 opencv-python-headless==4.9.0.80 wget==3.2\n",
    "    basis_dir = \"/content/Skyrmion-U-Net-Hands-On-Session/\"\n",
    "    from google.colab import output\n",
    "    output.enable_custom_widget_manager()\n",
    "except:\n",
    "    in_colab = False\n",
    "\n",
    "%load_ext autoreload\n",
    "%autoreload 2\n",
    "    \n",
    "from UNetEditor import UNetGUI\n",
    "import numpy as np\n",
    "from PIL import Image\n",
    "import matplotlib.pyplot as plt\n",
    "import zipfile\n",
    "import pandas as pd\n",
    "from UNetEditor import get_video_analysis\n",
    "\n",
    "basis_dir = \"./\"         \n",
    "tmp_folder,zip_folder,result_file=\"./tmp/\",\"zipfolder/\",\"result\"\n",
    "models = [(basis_dir+'models/2023_model.keras',\"Model 2023\",2),(basis_dir+'models/2022_model.keras',\"Model 2022\",1),(basis_dir+'models/2022_model_inv.keras',\"Model 2022 inverse\",1)]  "
   ]
  },
  {
   "cell_type": "code",
   "execution_count": null,
   "id": "f8be7400-5a5d-4c9e-b4b6-9e41f07b2685",
   "metadata": {},
   "outputs": [],
   "source": [
    "def get_frame(video_file):\n",
    "    import cv2\n",
    "    cap = cv2.VideoCapture(video_file)\n",
    "    ret,frame = cap.read()\n",
    "    if not ret: \n",
    "        print(\"Error: \",video_file)\n",
    "        return None\n",
    "    return frame\n",
    "\n",
    "video_file = \"../test.avi\"#change this file name\n",
    "frame = get_frame(video_file)"
   ]
  },
  {
   "cell_type": "code",
   "execution_count": null,
   "id": "0f511f2f-b6a2-4fc4-89c8-cd156ff8ddfa",
   "metadata": {},
   "outputs": [],
   "source": [
    "plt.close(\"all\")\n",
    "%matplotlib widget  \n",
    "gui = UNetGUI(models,frame,tmp_folder,zip_folder,result_file,False)\n",
    "gui"
   ]
  },
  {
   "cell_type": "code",
   "execution_count": null,
   "id": "bac0605e-c277-4d31-83f8-913ecac9716d",
   "metadata": {},
   "outputs": [],
   "source": [
    "config = gui.get_config()\n",
    "if not ((config[\"mask_analysis_editor\"] is None) or (config[\"pos_analysis_editor\"] is None)):\n",
    "    file = get_video_analysis(video_file,config,tmp_folder+zip_folder,tmp_folder+result_file)\n",
    "    print(\"Result saved in \",file)\n",
    "else:\n",
    "    print(\"Set the parameters in the GUI ! (min. click predict)\")"
   ]
  },
  {
   "cell_type": "code",
   "execution_count": null,
   "id": "0f46f701-4987-4f8e-a7cc-0829e3f328dc",
   "metadata": {},
   "outputs": [],
   "source": [
    "arch = zipfile.ZipFile(file,\"r\")\n",
    "print(file,arch.namelist())\n",
    "lcsv = sorted([ele for ele in arch.namelist() if ele.endswith(\".csv\")])\n",
    "lpng = sorted([ele for ele in arch.namelist() if ele.endswith(\".png\")])"
   ]
  },
  {
   "cell_type": "code",
   "execution_count": null,
   "id": "6fbe2367-9b7a-4251-8cb3-3c5c70448e12",
   "metadata": {},
   "outputs": [],
   "source": [
    "plt.close(\"all\")\n",
    "%matplotlib inline  \n",
    "\n",
    "ix = 0\n",
    "print(lcsv[ix],lpng[ix])\n",
    "fig,ax = plt.subplots()\n",
    "ax.imshow(plt.imread(arch.open(lpng[ix],\"r\")))\n",
    "pd.read_csv(arch.open(lcsv[ix],\"r\"))"
   ]
  }
 ],
 "metadata": {
  "kernelspec": {
   "display_name": "Python 3 (ipykernel)",
   "language": "python",
   "name": "python3"
  },
  "language_info": {
   "codemirror_mode": {
    "name": "ipython",
    "version": 3
   },
   "file_extension": ".py",
   "mimetype": "text/x-python",
   "name": "python",
   "nbconvert_exporter": "python",
   "pygments_lexer": "ipython3",
   "version": "3.11.0"
  }
 },
 "nbformat": 4,
 "nbformat_minor": 5
}
