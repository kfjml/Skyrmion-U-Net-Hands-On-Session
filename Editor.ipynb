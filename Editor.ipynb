{
 "cells": [
  {
   "cell_type": "code",
   "execution_count": null,
   "id": "cf542101-e99e-4321-8c31-6ae04cbaca83",
   "metadata": {},
   "outputs": [],
   "source": [
    "try:\n",
    "    import google.colab\n",
    "    in_colab = True\n",
    "    !git clone https://github.com/kfjml/Skyrmion-U-Net-Hands-On-Session\n",
    "    !pip install pip==23.3.1 tensorflow[and-cuda]==2.16.1 albumentations==1.4.3 matplotlib==3.8.4 ipympl==0.9.4 ipywidgets==7.7.1 pandas==2.2.1 chardet==5.2.0 opencv-python-headless==4.9.0.80 wget==3.2\n",
    "    basis_dir = \"/content/Skyrmion-U-Net-Hands-On-Session/\"\n",
    "    import sys\n",
    "    sys.path.append(basis_dir)\n",
    "\n",
    "    from google.colab import output\n",
    "    output.enable_custom_widget_manager()\n",
    "except:\n",
    "    basis_dir = \"./\"    \n",
    "    in_colab = False\n",
    "\n",
    "#%load_ext autoreload\n",
    "#%autoreload 2\n",
    "    \n",
    "import numpy as np\n",
    "from PIL import Image\n",
    "import matplotlib.pyplot as plt\n",
    "import zipfile\n",
    "import pandas as pd\n",
    "from UNetEditor import get_video_analysis\n",
    "from UNetEditor import UNetGUI\n",
    "\n",
    "\n",
    "tmp_folder,zip_folder,result_file=\"./tmp/\",\"zipfolder/\",\"result\"\n",
    "models = [(basis_dir+'models/2023_model.keras',\"Model 2023\",2),(basis_dir+'models/2022_model.keras',\"Model 2022\",1),(basis_dir+'models/2022_model_inv.keras',\"Model 2022 inverse\",1)]  "
   ]
  },
  {
   "cell_type": "code",
   "execution_count": null,
   "id": "f0534325-8b1c-4e23-be28-4af30c2df5fa",
   "metadata": {},
   "outputs": [],
   "source": [
    "plt.close(\"all\")\n",
    "%matplotlib widget         \n",
    "gui = UNetGUI(models,np.array(Image.open(basis_dir+\"example_kerr_microscopy_image.png\")),tmp_folder,zip_folder,result_file,colab=in_colab)\n",
    "gui"
   ]
  },
  {
   "cell_type": "code",
   "execution_count": null,
   "id": "03b5fef5-b661-4fd9-87dc-453e5a57a94f",
   "metadata": {},
   "outputs": [],
   "source": []
  },
  {
   "cell_type": "code",
   "execution_count": null,
   "id": "08d67888-93b3-4b90-8f88-6bbbfc285b54",
   "metadata": {},
   "outputs": [],
   "source": []
  }
 ],
 "metadata": {
  "kernelspec": {
   "display_name": "Python 3 (ipykernel)",
   "language": "python",
   "name": "python3"
  },
  "language_info": {
   "codemirror_mode": {
    "name": "ipython",
    "version": 3
   },
   "file_extension": ".py",
   "mimetype": "text/x-python",
   "name": "python",
   "nbconvert_exporter": "python",
   "pygments_lexer": "ipython3",
   "version": "3.11.0"
  }
 },
 "nbformat": 4,
 "nbformat_minor": 5
}
